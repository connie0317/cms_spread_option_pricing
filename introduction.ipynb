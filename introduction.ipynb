{
 "cells": [
  {
   "cell_type": "markdown",
   "metadata": {},
   "source": [
    "# Pricing Concept \n",
    "### to pricing a security have to provide \n",
    "### 1. a CURVE object \n",
    "### 2. a MODEL object\n",
    "### 3. a VOL object \n",
    "### 4. a SECURITY object "
   ]
  }
 ],
 "metadata": {
  "language_info": {
   "name": "python"
  }
 },
 "nbformat": 4,
 "nbformat_minor": 2
}
