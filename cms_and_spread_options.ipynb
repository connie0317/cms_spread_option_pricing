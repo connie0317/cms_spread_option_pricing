{
 "cells": [
  {
   "cell_type": "markdown",
   "metadata": {},
   "source": [
    "# Payoff for CMS and Spread Options"
   ]
  },
  {
   "cell_type": "markdown",
   "metadata": {},
   "source": [
    "##### [1] CMS is a constant maturity swap:  a type of interest rate swap. one leg of the swap pays a floating interest rate that is periodically reset to a constant maturity rate, such as the yield on a government bond with a fixed maturity (e.g., 5-year or 10-year). The other leg typically pays a standard floating rate, such as the LIBOR or SOFR, or a fixed rate.\n",
    "\n",
    "##### key features: \n",
    "##### 1. The rate paid or received on this leg is tied to a specific constant maturity rate. For example, the rate could be based on the current yield of a 10-year government bond. The rate is reset periodically (e.g., quarterly, annually) to reflect the prevailing rate for the chosen maturity.\n",
    "##### 2. The other leg could involve a traditional floating rate (like LIBOR or SOFR) or a fixed interest rate.\n",
    "##### 3. The CMS rate is reset at regular intervals, which distinguishes it from a typical fixed rate in a plain vanilla interest rate swap."
   ]
  },
  {
   "cell_type": "markdown",
   "metadata": {},
   "source": [
    "##### [2] A CMS is a seecurity that pays the swap rate over a far shorter time period.  In the typical swap, the fixed rate will be set on the effective data and then applied to the entire term of the swap. (e.g. a 10y swap starting on 24.10.1 will set based on the 10y swap rate R on this date, and pay R at annual intervals on the fixed leg over the next 10y, the floating leg is typically based on libor and could have a different frequency, e.g. semi-annually.) A CMS payoff instead will either have this 10y swap rate set on 2014.10.1 paied on that date only, or say after a short delay(e.g. 3m or 1y) but only once.  \n",
    "\n",
    "##### convexity adjustment: this is advantageous to an investor in this payoff because a high swap rate would correspond with high discount factors(assuming natually that interest rates are positive correlated across different maturities). This means we would be discounting at swap rate with higher discount factors over the entire "
   ]
  }
 ],
 "metadata": {
  "language_info": {
   "name": "python"
  }
 },
 "nbformat": 4,
 "nbformat_minor": 2
}
